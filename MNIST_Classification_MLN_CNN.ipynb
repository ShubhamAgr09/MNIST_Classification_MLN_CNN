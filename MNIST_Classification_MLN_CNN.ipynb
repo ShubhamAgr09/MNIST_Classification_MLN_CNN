{
  "nbformat": 4,
  "nbformat_minor": 0,
  "metadata": {
    "colab": {
      "provenance": [],
      "collapsed_sections": []
    },
    "language_info": {
      "codemirror_mode": {
        "name": "ipython",
        "version": 3
      },
      "file_extension": ".py",
      "mimetype": "text/x-python",
      "name": "python",
      "nbconvert_exporter": "python",
      "pygments_lexer": "ipython3",
      "version": "3.7.1"
    },
    "kernelspec": {
      "display_name": "Python 3",
      "language": "python",
      "name": "python3"
    }
  },
  "cells": [
    {
      "cell_type": "markdown",
      "metadata": {
        "id": "zh0uH8bDn1AE"
      },
      "source": [
        "# MNIST Dataset\n",
        "\n",
        "<img src=\"https://upload.wikimedia.org/wikipedia/commons/2/27/MnistExamples.png\" title=\"MNIST dataset\" align=\"center\"/>\n",
        "\n"
      ]
    },
    {
      "cell_type": "markdown",
      "metadata": {
        "id": "1K6Im4RYn1AK"
      },
      "source": [
        "# Problem\n",
        "Classify handwritten digits from 0 - 9. <br>\n",
        "Each image is 28x28 pixels\n",
        "\n",
        "<img src=\"https://corochann.com/wp-content/uploads/2017/02/mnist_plot.png\" title=\"\" align=\"center\"/>\n"
      ]
    },
    {
      "cell_type": "markdown",
      "metadata": {
        "id": "EVex4puqn1AO"
      },
      "source": [
        "# Understanding the data"
      ]
    },
    {
      "cell_type": "code",
      "metadata": {
        "id": "alqmfbOIn1AR"
      },
      "source": [
        "# MNIST data is present in the keras library. You may load it from there\n",
        "from tensorflow import keras\n",
        "from keras.datasets import mnist\n",
        "(train_samples, train_labels), (test_samples, test_labels) = mnist.load_data()\n",
        "# Training samples "
      ],
      "execution_count": null,
      "outputs": []
    },
    {
      "cell_type": "markdown",
      "metadata": {
        "id": "3CNRCPbrn1Ae"
      },
      "source": [
        "### Shape of Data"
      ]
    },
    {
      "cell_type": "code",
      "metadata": {
        "id": "_pAn6o3Vn1Ag",
        "outputId": "95073c4d-8050-4de8-b75f-72828b7a674d",
        "colab": {
          "base_uri": "https://localhost:8080/"
        }
      },
      "source": [
        "print(train_samples.shape)\n",
        "print(train_labels.shape)\n",
        "print(test_samples.shape)\n",
        "print(test_labels.shape)"
      ],
      "execution_count": null,
      "outputs": [
        {
          "output_type": "stream",
          "name": "stdout",
          "text": [
            "(60000, 28, 28)\n",
            "(60000,)\n",
            "(10000, 28, 28)\n",
            "(10000,)\n"
          ]
        }
      ]
    },
    {
      "cell_type": "markdown",
      "metadata": {
        "id": "ubf7aJPIn1Ax"
      },
      "source": [
        "### Range of Values"
      ]
    },
    {
      "cell_type": "code",
      "metadata": {
        "id": "-jiF1J8Jn1A0",
        "outputId": "3ddc7bee-82f6-4674-e965-e0352a9e8c72",
        "colab": {
          "base_uri": "https://localhost:8080/"
        }
      },
      "source": [
        "import numpy as np\n",
        "np.amax(train_samples) # Max value"
      ],
      "execution_count": null,
      "outputs": [
        {
          "output_type": "execute_result",
          "data": {
            "text/plain": [
              "255"
            ]
          },
          "metadata": {},
          "execution_count": 60
        }
      ]
    },
    {
      "cell_type": "code",
      "metadata": {
        "id": "Mu18byDmn1A-",
        "outputId": "0c70a17d-0be9-4865-ef5a-4358f6f06b60",
        "colab": {
          "base_uri": "https://localhost:8080/"
        }
      },
      "source": [
        "np.amin(train_samples) # Min Value"
      ],
      "execution_count": null,
      "outputs": [
        {
          "output_type": "execute_result",
          "data": {
            "text/plain": [
              "0"
            ]
          },
          "metadata": {},
          "execution_count": 61
        }
      ]
    },
    {
      "cell_type": "code",
      "metadata": {
        "id": "_OkrzUFQn1BI",
        "outputId": "b0d7ee24-1ab5-4f48-84b0-a46e6816aba5",
        "colab": {
          "base_uri": "https://localhost:8080/",
          "height": 282
        }
      },
      "source": [
        "%matplotlib inline\n",
        "import matplotlib.pyplot as plt\n",
        "\n",
        "pixels = train_samples[0] # Shape (28, 28)\n",
        "plt.imshow(pixels, cmap='gray')\n",
        "plt.show()\n",
        "print('Label of image is', train_labels[0])"
      ],
      "execution_count": null,
      "outputs": [
        {
          "output_type": "display_data",
          "data": {
            "text/plain": [
              "<Figure size 432x288 with 1 Axes>"
            ],
            "image/png": "[encoded data removed]"
          },
          "metadata": {
            "needs_background": "light"
          }
        },
        {
          "output_type": "stream",
          "name": "stdout",
          "text": [
            "Label of image is 5\n"
          ]
        }
      ]
    },
    {
      "cell_type": "markdown",
      "metadata": {
        "id": "N6JiZgztn1BP"
      },
      "source": [
        "# Data Preparation"
      ]
    },
    {
      "cell_type": "markdown",
      "metadata": {
        "id": "7hUHie4_n1BQ"
      },
      "source": [
        "### Normalize inputs to (0, 1)"
      ]
    },
    {
      "cell_type": "code",
      "metadata": {
        "id": "iGKZASBBn1BS"
      },
      "source": [
        "# Convert data type from uint8 to float32\n",
        "train_samples = train_samples.astype('float32')\n",
        "test_samples = test_samples.astype('float32')"
      ],
      "execution_count": null,
      "outputs": []
    },
    {
      "cell_type": "code",
      "metadata": {
        "id": "gbaIejYPn1BX",
        "outputId": "5ad959db-cbbd-43b8-ae63-c36a82c5f415",
        "colab": {
          "base_uri": "https://localhost:8080/"
        }
      },
      "source": [
        "# Normalize inputs to (0,1)\n",
        "train_samples = train_samples/255.\n",
        "test_samples = test_samples/255.\n",
        "np.amax(train_samples) # max value has become 1.0"
      ],
      "execution_count": null,
      "outputs": [
        {
          "output_type": "execute_result",
          "data": {
            "text/plain": [
              "1.0"
            ]
          },
          "metadata": {},
          "execution_count": 64
        }
      ]
    },
    {
      "cell_type": "code",
      "metadata": {
        "id": "0klvh6HMn1Be"
      },
      "source": [
        "## Reshape input to be a column vector\n",
        "train_samples = train_samples.reshape(train_samples.shape[0], 28*28)\n",
        "test_samples = test_samples.reshape(test_samples.shape[0], 28*28)"
      ],
      "execution_count": null,
      "outputs": []
    },
    {
      "cell_type": "markdown",
      "metadata": {
        "id": "jzvfaeh9n1Bj"
      },
      "source": [
        "### Convert outputs to 1-hot vectors\n",
        "\\begin{equation*}\n",
        "Eg: 5 \\rightarrow [0, 0, 0, 0, 0, 1, 0, 0, 0, 0]\n",
        "\\end{equation*}"
      ]
    },
    {
      "cell_type": "code",
      "metadata": {
        "id": "kCxrh0-nn1Bl",
        "outputId": "6e622b3a-30c8-4970-c4c0-2d8889369ab8",
        "colab": {
          "base_uri": "https://localhost:8080/"
        }
      },
      "source": [
        "# keras has a utility function for this\n",
        "from tensorflow.keras.utils import to_categorical\n",
        "train_labels = to_categorical(train_labels)\n",
        "test_labels = to_categorical(test_labels)\n",
        "# example\n",
        "train_labels[0] # label = 5"
      ],
      "execution_count": null,
      "outputs": [
        {
          "output_type": "execute_result",
          "data": {
            "text/plain": [
              "array([0., 0., 0., 0., 0., 1., 0., 0., 0., 0.], dtype=float32)"
            ]
          },
          "metadata": {},
          "execution_count": 66
        }
      ]
    },
    {
      "cell_type": "markdown",
      "metadata": {
        "id": "2_Pt8JB8n1Bq"
      },
      "source": [
        "# Network Architecture\n",
        "\n",
        "<img src=\"https://drive.google.com/uc?id=1m2jgscTgKlvtzj757I9YMJE2sqNXmMMy\" title=\"\" align=\"center\" width=\"50%\" height=\"50%\"/>"
      ]
    },
    {
      "cell_type": "markdown",
      "metadata": {
        "id": "aceZEJRzn1Bs"
      },
      "source": [
        "### Softmax Activation Function\n",
        "In the Dense (Fully Connected) layer, we use a softmax activation function\n",
        "\\begin{align}\n",
        "\\sigma(x_j) = \\frac{e^{x_j}}{\\sum_{i}e^{x_i}}\n",
        "\\end{align}\n",
        "\n",
        " The softmax function is a function that takes as input a vector of K real numbers, and normalizes it into a probability distribution consisting of K probabilities"
      ]
    },
    {
      "cell_type": "markdown",
      "metadata": {
        "id": "VBVFR5ran1By"
      },
      "source": [
        "Loss is Categorical Crossentropy\n",
        "\n",
        "\\begin{align}\n",
        "L(t,p) = -\\sum_{x}t(x)log(p(x))\n",
        "\\end{align}\n",
        "\n",
        "where  𝑥  ranges over the elements of the output vector\n",
        "\n",
        "\\begin{align}\n",
        "t \\rightarrow \\text{true probability distribution} \\\\\n",
        "p \\rightarrow \\text{predicted probability distribution}\n",
        "\\end{align}\n",
        "In our case, $t$ is always a delta function. \n",
        "For eg., for label = 5,<br>\n",
        "$t(x) = 1$ if $x = 5$ and 0 otherwise"
      ]
    },
    {
      "cell_type": "markdown",
      "metadata": {
        "id": "PiZKWdx5n1B0"
      },
      "source": [
        "Weight update Rule\n",
        "\n",
        "\\begin{align}\n",
        "W' \\leftarrow W - \\eta\\frac{\\partial L}{\\partial W}\n",
        "\\end{align}"
      ]
    },
    {
      "cell_type": "code",
      "source": [
        "train_samples.shape"
      ],
      "metadata": {
        "colab": {
          "base_uri": "https://localhost:8080/"
        },
        "id": "u07VUt6RFDXE",
        "outputId": "15b775e5-e07c-4b73-8150-5e9719cab584"
      },
      "execution_count": null,
      "outputs": [
        {
          "output_type": "execute_result",
          "data": {
            "text/plain": [
              "(60000, 784)"
            ]
          },
          "metadata": {},
          "execution_count": 67
        }
      ]
    },
    {
      "cell_type": "code",
      "source": [
        "test_labels.shape"
      ],
      "metadata": {
        "colab": {
          "base_uri": "https://localhost:8080/"
        },
        "id": "xSjXH5hSFIhc",
        "outputId": "19bc1f57-8acf-44a5-eaa1-2ba5611f5e1a"
      },
      "execution_count": null,
      "outputs": [
        {
          "output_type": "execute_result",
          "data": {
            "text/plain": [
              "(10000, 10)"
            ]
          },
          "metadata": {},
          "execution_count": 68
        }
      ]
    },
    {
      "cell_type": "markdown",
      "source": [
        "RESTART"
      ],
      "metadata": {
        "id": "q-m_l6FyIVLd"
      }
    },
    {
      "cell_type": "code",
      "source": [
        "# MNIST data is present in the keras library. You may load it from there\n",
        "from tensorflow import keras\n",
        "from keras.datasets import mnist\n",
        "(X_train, y_train), (X_test, y_test) = mnist.load_data()\n",
        "# Training samples "
      ],
      "metadata": {
        "id": "fHZXsYaKIT6g"
      },
      "execution_count": null,
      "outputs": []
    },
    {
      "cell_type": "code",
      "source": [
        "X_train.shape"
      ],
      "metadata": {
        "colab": {
          "base_uri": "https://localhost:8080/"
        },
        "id": "lgpmZhnLcj_o",
        "outputId": "3ecdf5ce-3241-4ad7-a1a3-a5d4f4195e17"
      },
      "execution_count": null,
      "outputs": [
        {
          "output_type": "execute_result",
          "data": {
            "text/plain": [
              "(60000, 28, 28)"
            ]
          },
          "metadata": {},
          "execution_count": 83
        }
      ]
    },
    {
      "cell_type": "code",
      "source": [
        "y_train.shape"
      ],
      "metadata": {
        "colab": {
          "base_uri": "https://localhost:8080/"
        },
        "id": "aR-r9tn-IUDn",
        "outputId": "ec1c4204-2fee-4aa4-d93a-d929d11b6d2c"
      },
      "execution_count": null,
      "outputs": [
        {
          "output_type": "execute_result",
          "data": {
            "text/plain": [
              "(60000,)"
            ]
          },
          "metadata": {},
          "execution_count": 84
        }
      ]
    },
    {
      "cell_type": "code",
      "source": [
        "plt.imshow(X_train[1])\n",
        "print(y_train[1])"
      ],
      "metadata": {
        "colab": {
          "base_uri": "https://localhost:8080/",
          "height": 282
        },
        "id": "WukCTwHGdQ6H",
        "outputId": "4d7d2d33-77a9-4944-d200-73a235079fe5"
      },
      "execution_count": null,
      "outputs": [
        {
          "output_type": "stream",
          "name": "stdout",
          "text": [
            "0\n"
          ]
        },
        {
          "output_type": "display_data",
          "data": {
            "text/plain": [
              "<Figure size 432x288 with 1 Axes>"
            ],
            "image/png": "[encoded data removed]"
          },
          "metadata": {
            "needs_background": "light"
          }
        }
      ]
    },
    {
      "cell_type": "code",
      "source": [
        "X_train=X_train/255\n",
        "X_test=X_test/255"
      ],
      "metadata": {
        "id": "U_IqJ_qReF0t"
      },
      "execution_count": null,
      "outputs": []
    },
    {
      "cell_type": "code",
      "source": [
        "ann = models.Sequential([\n",
        "        layers.Flatten(input_shape=(28,28)),\n",
        "        layers.Dense(300,activation='relu'),\n",
        "        layers.Dense(100,activation='relu'),\n",
        "        layers.Dense(10,activation='sigmoid')\n",
        "      ])\n",
        "ann.compile(optimizer='SGD',\n",
        "            loss='sparse_categorical_crossentropy',\n",
        "            metrics=['accuracy'])T\n",
        "ann.fit(X_train,y_train,epochs=10)\n"
      ],
      "metadata": {
        "colab": {
          "base_uri": "https://localhost:8080/"
        },
        "id": "VkOvyb00IUIS",
        "outputId": "d5e69a99-949c-4ae9-a353-ec457fe861b6"
      },
      "execution_count": null,
      "outputs": [
        {
          "output_type": "stream",
          "name": "stdout",
          "text": [
            "Epoch 1/10\n",
            "1875/1875 [==============================] - 7s 4ms/step - loss: 0.5867 - accuracy: 0.8473\n",
            "Epoch 2/10\n",
            "1875/1875 [==============================] - 6s 3ms/step - loss: 0.2811 - accuracy: 0.9204\n",
            "Epoch 3/10\n",
            "1875/1875 [==============================] - 6s 3ms/step - loss: 0.2284 - accuracy: 0.9352\n",
            "Epoch 4/10\n",
            "1875/1875 [==============================] - 6s 3ms/step - loss: 0.1938 - accuracy: 0.9449\n",
            "Epoch 5/10\n",
            "1875/1875 [==============================] - 7s 3ms/step - loss: 0.1684 - accuracy: 0.9518\n",
            "Epoch 6/10\n",
            "1875/1875 [==============================] - 8s 4ms/step - loss: 0.1485 - accuracy: 0.9577\n",
            "Epoch 7/10\n",
            "1875/1875 [==============================] - 12s 6ms/step - loss: 0.1327 - accuracy: 0.9626\n",
            "Epoch 8/10\n",
            "1875/1875 [==============================] - 8s 4ms/step - loss: 0.1195 - accuracy: 0.9661\n",
            "Epoch 9/10\n",
            "1875/1875 [==============================] - 6s 3ms/step - loss: 0.1088 - accuracy: 0.9699\n",
            "Epoch 10/10\n",
            "1875/1875 [==============================] - 6s 3ms/step - loss: 0.0990 - accuracy: 0.9719\n"
          ]
        },
        {
          "output_type": "execute_result",
          "data": {
            "text/plain": [
              "<keras.callbacks.History at 0x7f4c3b801690>"
            ]
          },
          "metadata": {},
          "execution_count": 104
        }
      ]
    },
    {
      "cell_type": "code",
      "metadata": {
        "scrolled": true,
        "id": "iN6BITwtn1B1",
        "outputId": "205b03b9-14b9-4d06-c711-1501f15993c7",
        "colab": {
          "base_uri": "https://localhost:8080/"
        }
      },
      "source": [
        "# %%timeit -r -n\n",
        "from keras import models,layers\n",
        "cnn = models.Sequential([\n",
        "    layers.Conv2D(filters=32,kernel_size=(3,3), activation='relu', input_shape=(28,28,1)),\n",
        "    # Dense(10, input_shape=(784,), activation='sigmoid')\n",
        "    layers.MaxPooling2D((2,2)),\n",
        "\n",
        "    layers.Conv2D(filters=64,kernel_size=(3,3), activation='relu'),\n",
        "    layers.MaxPooling2D((2,2)),\n",
        "\n",
        "    layers.Flatten(),\n",
        "    layers.Dense(64, activation='relu'),\n",
        "    layers.Dense(10, activation='softmax')\n",
        "])\n",
        "\n",
        "cnn.compile(optimizer='adam',\n",
        "            loss='sparse_categorical_crossentropy',\n",
        "            metrics=['accuracy'])\n",
        "\n",
        "cnn.fit(X_train,y_train,epochs=10)"
      ],
      "execution_count": null,
      "outputs": [
        {
          "output_type": "stream",
          "name": "stdout",
          "text": [
            "Epoch 1/10\n",
            "1875/1875 [==============================] - 102s 33ms/step - loss: 0.1421 - accuracy: 0.9572\n",
            "Epoch 2/10\n",
            "1875/1875 [==============================] - 62s 33ms/step - loss: 0.0474 - accuracy: 0.9855\n",
            "Epoch 3/10\n",
            "1875/1875 [==============================] - 60s 32ms/step - loss: 0.0335 - accuracy: 0.9897\n",
            "Epoch 4/10\n",
            "1875/1875 [==============================] - 62s 33ms/step - loss: 0.0246 - accuracy: 0.9924\n",
            "Epoch 5/10\n",
            "1875/1875 [==============================] - 62s 33ms/step - loss: 0.0189 - accuracy: 0.9942\n",
            "Epoch 6/10\n",
            "1875/1875 [==============================] - 59s 31ms/step - loss: 0.0143 - accuracy: 0.9954\n",
            "Epoch 7/10\n",
            "1875/1875 [==============================] - 59s 32ms/step - loss: 0.0120 - accuracy: 0.9961\n",
            "Epoch 8/10\n",
            "1875/1875 [==============================] - 58s 31ms/step - loss: 0.0090 - accuracy: 0.9971\n",
            "Epoch 9/10\n",
            "1875/1875 [==============================] - 59s 32ms/step - loss: 0.0082 - accuracy: 0.9972\n",
            "Epoch 10/10\n",
            "1875/1875 [==============================] - 58s 31ms/step - loss: 0.0082 - accuracy: 0.9973\n"
          ]
        },
        {
          "output_type": "execute_result",
          "data": {
            "text/plain": [
              "<keras.callbacks.History at 0x7f4c3bb8f050>"
            ]
          },
          "metadata": {},
          "execution_count": 113
        }
      ]
    },
    {
      "cell_type": "code",
      "source": [
        "# %%timeit\n",
        "from keras import models,layers\n",
        "cnn = models.Sequential([\n",
        "    layers.Conv2D(filters=32,kernel_size=(3,3), activation='relu', input_shape=(28,28,1)),\n",
        "    # Dense(10, input_shape=(784,), activation='sigmoid')\n",
        "    layers.MaxPooling2D((2,2)),\n",
        "\n",
        "    layers.Conv2D(filters=64,kernel_size=(3,3), activation='relu'),\n",
        "    layers.MaxPooling2D((2,2)),\n",
        "\n",
        "    layers.Flatten(),\n",
        "    layers.Dense(64, activation='relu'),\n",
        "    layers.Dense(10, activation='softmax')\n",
        "])\n",
        "\n",
        "cnn.compile(optimizer='SGD',\n",
        "            loss='sparse_categorical_crossentropy',\n",
        "            metrics=['accuracy'])\n",
        "\n",
        "cnn.fit(X_train,y_train,epochs=10)"
      ],
      "metadata": {
        "colab": {
          "base_uri": "https://localhost:8080/"
        },
        "id": "eEMvDoxjA_DG",
        "outputId": "8935ac09-043d-4d97-9467-5a5a90a93df5"
      },
      "execution_count": null,
      "outputs": [
        {
          "output_type": "stream",
          "name": "stdout",
          "text": [
            "Epoch 1/10\n",
            "1875/1875 [==============================] - 58s 31ms/step - loss: 0.5164 - accuracy: 0.8525\n",
            "Epoch 2/10\n",
            "1875/1875 [==============================] - 56s 30ms/step - loss: 0.1468 - accuracy: 0.9558\n",
            "Epoch 3/10\n",
            "1875/1875 [==============================] - 58s 31ms/step - loss: 0.1022 - accuracy: 0.9690\n",
            "Epoch 4/10\n",
            "1875/1875 [==============================] - 57s 30ms/step - loss: 0.0819 - accuracy: 0.9750\n",
            "Epoch 5/10\n",
            "1875/1875 [==============================] - 58s 31ms/step - loss: 0.0700 - accuracy: 0.9781\n",
            "Epoch 6/10\n",
            "1875/1875 [==============================] - 57s 30ms/step - loss: 0.0613 - accuracy: 0.9811\n",
            "Epoch 7/10\n",
            "1875/1875 [==============================] - 58s 31ms/step - loss: 0.0548 - accuracy: 0.9834\n",
            "Epoch 8/10\n",
            "1875/1875 [==============================] - 58s 31ms/step - loss: 0.0490 - accuracy: 0.9849\n",
            "Epoch 9/10\n",
            "1875/1875 [==============================] - 57s 30ms/step - loss: 0.0453 - accuracy: 0.9858\n",
            "Epoch 10/10\n",
            "1875/1875 [==============================] - 58s 31ms/step - loss: 0.0416 - accuracy: 0.9869\n"
          ]
        },
        {
          "output_type": "execute_result",
          "data": {
            "text/plain": [
              "<keras.callbacks.History at 0x7f4c3b9e15d0>"
            ]
          },
          "metadata": {},
          "execution_count": 115
        }
      ]
    },
    {
      "cell_type": "code",
      "source": [],
      "metadata": {
        "id": "syAOIgDAA_H1"
      },
      "execution_count": null,
      "outputs": []
    },
    {
      "cell_type": "code",
      "source": [],
      "metadata": {
        "id": "M3EfvQyxA_Mc"
      },
      "execution_count": null,
      "outputs": []
    },
    {
      "cell_type": "code",
      "source": [],
      "metadata": {
        "id": "RKtWgg0GA_Q_"
      },
      "execution_count": null,
      "outputs": []
    }
  ]
}